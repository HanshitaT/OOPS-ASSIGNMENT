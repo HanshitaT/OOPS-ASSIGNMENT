{
  "nbformat": 4,
  "nbformat_minor": 0,
  "metadata": {
    "colab": {
      "provenance": []
    },
    "kernelspec": {
      "name": "python3",
      "display_name": "Python 3"
    },
    "language_info": {
      "name": "python"
    }
  },
  "cells": [
    {
      "cell_type": "code",
      "execution_count": 1,
      "metadata": {
        "id": "Xg9RrAmh4hYc"
      },
      "outputs": [],
      "source": [
        "#oops assignment"
      ]
    },
    {
      "cell_type": "markdown",
      "source": [
        "1. What is Object-Oriented Programming (OOP)\n",
        "  -Object-Oriented Programming (OOP) is a programming paradigm, or a way of thinking about and structuring your code, that is based on the concept of \"objects\".\n",
        "\n",
        "Key Concepts\n",
        "\n",
        "Objects: These are the fundamental building blocks of OOP. Think of an object as a real-world entity with properties (attributes) and behaviors (methods). For example, a \"car\" could be an object with attributes like color, model, and make, and behaviors like starting, accelerating, and braking.\n",
        "Classes: A class is like a blueprint for creating objects. It defines the attributes and methods that objects of that class will have. If we continue with the car example, \"Car\" would be the class, and specific cars like a red Toyota Camry or a blue Honda Civic would be objects (instances) of that class.\n",
        "Encapsulation: This is the idea of bundling data (attributes) and the methods that operate on that data within a single unit (the object). It helps to protect data and make code more organized.\n",
        "Inheritance: This allows you to create new classes (child classes) that inherit properties and behaviors from existing classes (parent classes). This promotes code reuse and reduces redundancy. For example, you could have a \"SportsCar\" class that inherits from the \"Car\" class and adds attributes like \"turbocharged\" or \"spoiler.\"\n",
        "Polymorphism: This means that objects of different classes can respond to the same method call in different ways. For example, both a \"Car\" and a \"Bicycle\" might have a \"move\" method, but they would implement it differently.\n",
        "Benefits of OOP\n",
        "\n",
        "Modularity: OOP makes code more organized and easier to maintain by breaking it down into smaller, self-contained units (objects).\n",
        "Reusability: Inheritance allows you to reuse code and avoid writing the same logic multiple times.\n",
        "Flexibility: Polymorphism allows you to write code that can work with objects of different types without needing to know their specific class.\n",
        "Scalability: OOP makes it easier to build large and complex systems by providing a structured way to manage code complexity.\n",
        "\n",
        "\n",
        "2.What is a class in OOP\n",
        "  -n OOP, a class is a blueprint or template for creating objects. Think of it like a cookie cutter – the cookie cutter is the class, and the cookies you make with it are the objects.\n",
        "\n",
        "Here's a breakdown of the key aspects of a class:\n",
        "\n",
        "Blueprint: A class defines the structure and behavior of objects that will be created from it. It specifies what data (attributes) an object will have and what actions (methods) it can perform.\n",
        "Attributes: These are the variables that hold the data associated with an object. For example, if you have a class called \"Dog,\" its attributes might include \"name,\" \"breed,\" and \"age.\"\n",
        "Methods: These are the functions that define the behavior of an object. For our \"Dog\" class, methods might include \"bark,\" \"fetch,\" and \"wagTail.\"\n",
        "Instantiation: The process of creating an object from a class is called instantiation. When you instantiate a class, you're essentially creating a specific instance of that class with its own unique set of attributes and the ability to perform the actions defined by its methods.\n",
        "Example:\n",
        "\n",
        "\n",
        "class Dog:\n",
        "    def __init__(self, name, breed):\n",
        "        self.name = name\n",
        "        self.breed = breed\n",
        "\n",
        "    def bark(self):\n",
        "        print(\"Woof!\")\n",
        "\n",
        "# Create an object (instance) of the Dog class\n",
        "my_dog = Dog(\"Buddy\", \"Golden Retriever\")\n",
        "\n",
        "# Access attributes and call methods\n",
        "print(my_dog.name)  # Output: Buddy\n",
        "my_dog.bark()      # Output: Woof!\n",
        "Use code with caution\n",
        "In this example, Dog is the class, my_dog is an object (instance) of the Dog class, name and breed are attributes, and bark is a method.\n",
        "\n",
        "3. What is an object in OOP\n",
        "  - In OOP, an object is an instance of a class. Think of it like this:\n",
        "\n",
        "Class: A blueprint or template for creating objects. It defines the structure and behavior of objects.\n",
        "Object: A specific instance of a class. It has its own unique set of attributes (data) and methods (actions).\n",
        "Key aspects of an object:\n",
        "\n",
        "Identity: Each object has a unique identity that distinguishes it from other objects.\n",
        "State: The state of an object is represented by its attributes. These are the variables that hold the data associated with the object.\n",
        "Behavior: The behavior of an object is defined by its methods. These are the functions that the object can perform.\n",
        "Example:\n",
        "\n",
        "\n",
        "class Car:\n",
        "    def __init__(self, make, model, year):\n",
        "        self.make = make\n",
        "        self.model = model\n",
        "        self.year = year\n",
        "\n",
        "    def start(self):\n",
        "        print(\"Starting the car\")\n",
        "\n",
        "# Create an object (instance) of the Car class\n",
        "my_car = Car(\"Toyota\", \"Camry\", 2023)\n",
        "\n",
        "# Access attributes and call methods\n",
        "print(my_car.make)  # Output: Toyota\n",
        "my_car.start()      # Output: Starting the car\n",
        "Use code with caution\n",
        "In this example:\n",
        "\n",
        "Car is the class.\n",
        "my_car is an object (instance) of the Car class.\n",
        "make, model, and year are attributes of the my_car object.\n",
        "start is a method of the my_car object.\n",
        "In essence, an object is a concrete realization of a class. It represents a specific entity with its own data and behavior. Objects are the fundamental building blocks of OOP, and they interact with each other to perform tasks and solve problems.\n",
        "\n",
        "4. What is the difference between abstraction and encapsulation?\n",
        "  -Both abstraction and encapsulation are important concepts in OOP, but they serve different purposes:\n",
        "\n",
        "Abstraction\n",
        "\n",
        "Focus: Hiding complex implementation details and showing only essential information to the user.\n",
        "Goal: Simplify complexity by providing a higher-level interface to interact with objects.\n",
        "How it works: Achieved through abstract classes and interfaces. These define a set of methods that must be implemented by concrete classes, but they don't provide the implementation themselves.\n",
        "Example: Consider a car's steering wheel. You can use it to turn the car without needing to know the intricate mechanics of how the steering system actually works. The steering wheel provides an abstraction of the underlying complexity.\n",
        "Encapsulation\n",
        "\n",
        "Focus: Bundling data (attributes) and methods that operate on that data within a single unit (the object).\n",
        "Goal: Protect data integrity and improve code organization.\n",
        "How it works: Achieved through access modifiers (like public, private, and protected in some languages) that control how data can be accessed and modified.\n",
        "Example: Think of a capsule containing medicine. The capsule encapsulates the medicine, protecting it from the outside environment and ensuring that it's delivered in the correct dosage.\n",
        "Key Differences\n",
        "\n",
        "Feature\tAbstraction\tEncapsulation\n",
        "Purpose\tHiding complexity\tProtecting data\n",
        "Focus\tWhat an object does\tHow an object works\n",
        "Implementation\tAbstract classes, interfaces\tAccess modifiers\n",
        "In simpler terms:\n",
        "\n",
        "Abstraction is like a simplified view of a complex system. You only see the essential parts, not the inner workings.\n",
        "Encapsulation is like a protective container around data and methods. It keeps them safe and organized.\n",
        "\n",
        "5. What are dunder methods in Python\n",
        "  -Okay, let's talk about dunder methods in Python:\n",
        "\n",
        "In Python, dunder methods (also called \"magic methods\" or \"special methods\") are methods with double underscores at the beginning and end of their names (e.g., __init__, __str__, __add__). They are special methods that Python uses to provide functionality to classes and objects.\n",
        "\n",
        "Here are some key points about dunder methods:\n",
        "\n",
        "Special Functionality: They are not meant to be called directly by the user, but are triggered automatically by Python in specific situations.\n",
        "Operator Overloading: Dunder methods allow you to define how your objects behave when used with operators like +, -, *, /, ==, etc. This is called operator overloading.\n",
        "Object Initialization: The __init__ method is a special dunder method used to initialize objects when they are created.\n",
        "Object Representation: The __str__ and __repr__ methods are used to define how objects are represented as strings.\n",
        "Customizing Behavior: You can use dunder methods to customize the behavior of your objects in various ways, such as defining how they are compared, iterated over, and accessed.\n",
        "Example:\n",
        "\n",
        "\n",
        "class Point:\n",
        "    def __init__(self, x, y):\n",
        "        self.x = x\n",
        "        self.y = y\n",
        "\n",
        "    def __add__(self, other):\n",
        "        return Point(self.x + other.x, self.y + other.y)\n",
        "\n",
        "    def __str__(self):\n",
        "        return f\"Point({self.x}, {self.y})\"\n",
        "\n",
        "p1 = Point(1, 2)\n",
        "p2 = Point(3, 4)\n",
        "p3 = p1 + p2\n",
        "print(p3)  # Output: Point(4, 6)\n",
        "Use code with caution\n",
        "In this example, the __add__ method allows you to add two Point objects using the + operator, and the __str__ method defines how the Point object is represented as a string.\n",
        "\n",
        "Benefits of using dunder methods:\n",
        "\n",
        "Increased readability: Make code more intuitive and easier to understand.\n",
        "Code reusability: Reduce code duplication by defining common behavior in dunder methods.\n",
        "Flexibility: Allow you to customize the behavior of your objects to fit specific needs.\n",
        "\n",
        "6. Explain the concept of inheritance in OOPF\n",
        "  -Okay, let's explore the concept of inheritance in Object-Oriented Programming (OOP):\n",
        "\n",
        "Inheritance is a fundamental principle in OOP that allows you to create new classes (called derived classes or child classes) that inherit properties and behaviors from existing classes (called base classes or parent classes).\n",
        "\n",
        "Think of it like a family tree – children inherit characteristics from their parents. In OOP, inheritance enables code reuse and promotes a hierarchical structure for organizing classes.\n",
        "\n",
        "Key aspects of inheritance:\n",
        "\n",
        "Parent Class (Base Class): The class being inherited from. It provides the foundation for the derived class.\n",
        "Child Class (Derived Class): The class that inherits from the parent class. It gains access to the parent class's attributes and methods.\n",
        "Code Reuse: Inheritance allows the child class to reuse the code and functionality of the parent class, avoiding redundancy and promoting efficiency.\n",
        "Extensibility: The child class can extend the functionality of the parent class by adding its own unique attributes and methods.\n",
        "Polymorphism: Inheritance enables polymorphism, which means that objects of different classes can respond to the same method call in different ways.\n",
        "Example:\n",
        "\n",
        "\n",
        "class Animal:\n",
        "    def __init__(self, name):\n",
        "        self.name = name\n",
        "\n",
        "    def speak(self):\n",
        "        print(\"Generic animal sound\")\n",
        "\n",
        "class Dog(Animal):\n",
        "    def speak(self):\n",
        "        print(\"Woof!\")\n",
        "\n",
        "class Cat(Animal):\n",
        "    def speak(self):\n",
        "        print(\"Meow!\")\n",
        "\n",
        "my_dog = Dog(\"Buddy\")\n",
        "my_cat = Cat(\"Whiskers\")\n",
        "\n",
        "my_dog.speak()  # Output: Woof!\n",
        "my_cat.speak()  # Output: Meow!\n",
        "Use code with caution\n",
        "In this example:\n",
        "\n",
        "Animal is the parent class.\n",
        "Dog and Cat are child classes that inherit from Animal.\n",
        "The speak method is overridden in the child classes to provide specific behavior.\n",
        "Benefits of Inheritance:\n",
        "\n",
        "Code Reusability: Avoid writing the same code multiple times.\n",
        "Organization: Create a hierarchical structure for classes.\n",
        "Extensibility: Easily add new functionality without modifying existing code.\n",
        "Polymorphism: Enables objects of different classes to respond to the same method call in different ways.\n",
        "\n",
        "7. What is polymorphism in OOP\n",
        "  Polymorphism, meaning \"many forms,\" is a core concept in OOP that allows objects of different classes to be treated as objects of a common type. This means that you can use the same method call on objects of different classes, and they will respond in their own specific ways.\n",
        "\n",
        "Key aspects of polymorphism:\n",
        "\n",
        "Flexibility: Polymorphism allows you to write code that can work with objects of various types without needing to know their exact class.\n",
        "Method Overriding: A common way to achieve polymorphism is through method overriding. This is when a child class provides its own implementation of a method that is already defined in its parent class.\n",
        "Duck Typing: Python's dynamic typing system supports a form of polymorphism called duck typing. This means that if an object walks like a duck and quacks like a duck, it's treated as a duck, regardless of its actual class.\n",
        "Interfaces (in some languages): Interfaces define a set of methods that classes must implement. This ensures that objects of different classes can be used interchangeably if they adhere to the same interface.\n",
        "Example:\n",
        "\n",
        "\n",
        "class Animal:\n",
        "    def speak(self):\n",
        "        print(\"Generic animal sound\")\n",
        "\n",
        "class Dog(Animal):\n",
        "    def speak(self):\n",
        "        print(\"Woof!\")\n",
        "\n",
        "class Cat(Animal):\n",
        "    def speak(self):\n",
        "        print(\"Meow!\")\n",
        "\n",
        "animals = [Dog(), Cat()]\n",
        "\n",
        "for animal in animals:\n",
        "    animal.speak()  # Output: Woof! Meow!\n",
        "Use code with caution\n",
        "In this example:\n",
        "\n",
        "The speak method is overridden in the Dog and Cat classes.\n",
        "The loop iterates through a list of animals and calls the speak method on each object.\n",
        "Even though the objects are of different types, they can all respond to the speak method call in their own way.\n",
        "Benefits of Polymorphism:\n",
        "\n",
        "Flexibility: Write code that can work with objects of different types.\n",
        "Code Reusability: Reduce code duplication by using common interfaces.\n",
        "Extensibility: Easily add new types of objects without modifying existing code.\n",
        "Maintainability: Make code easier to understand and maintain.\n",
        "\n",
        "8. How is encapsulation achieved in Python\n",
        "  - Okay, let's discuss how encapsulation is achieved in Python:\n",
        "\n",
        "Encapsulation in Python is the practice of bundling data (attributes) and the methods that operate on that data within a single unit (the object). It helps to protect data integrity and improve code organization.\n",
        "\n",
        "Unlike some other object-oriented languages like Java or C++, Python doesn't have strict access modifiers (like public, private, and protected) to enforce encapsulation. Instead, it relies on conventions and programming practices.\n",
        "\n",
        "Here's how encapsulation is achieved in Python:\n",
        "\n",
        "Using Single Underscore Prefix: By convention, attributes with a single underscore prefix (_attribute) are considered \"protected\" and should not be accessed directly from outside the class. However, this is just a convention, and Python doesn't prevent you from doing so. It's more of a hint to other developers that the attribute is intended for internal use within the class.\n",
        "Using Double Underscore Prefix (Name Mangling): Attributes with a double underscore prefix (__attribute) are subject to name mangling. This means that Python modifies the attribute name to make it more difficult to access directly from outside the class. While not truly private, it adds a layer of protection.\n",
        "Using Properties: The @property decorator allows you to define getter and setter methods for attributes. This gives you more control over how attributes are accessed and modified, allowing you to enforce validation or other logic.\n",
        "Example:\n",
        "\n",
        "\n",
        "class Person:\n",
        "    def __init__(self, name, age):\n",
        "        self._name = name  # Protected attribute\n",
        "        self.__age = age  # Private attribute (name mangled)\n",
        "\n",
        "    @property\n",
        "    def age(self):\n",
        "        return self.__age\n",
        "\n",
        "    @age.setter\n",
        "    def age(self, value):\n",
        "        if value >= 0:\n",
        "            self.__age = value\n",
        "        else:\n",
        "            raise ValueError(\"Age cannot be negative\")\n",
        "\n",
        "person = Person(\"Alice\", 30)\n",
        "# Accessing protected attribute (discouraged)\n",
        "print(person._name)  # Output: Alice\n",
        "# Accessing private attribute (name mangled)\n",
        "# print(person.__age)  # AttributeError: 'Person' object has no attribute '__age'\n",
        "# Accessing using property\n",
        "print(person.age)  # Output: 30\n",
        "person.age = 35\n",
        "print(person.age)  # Output: 35\n",
        "Use code with caution\n",
        "In this example:\n",
        "\n",
        "_name is a protected attribute.\n",
        "__age is a private attribute (name mangled).\n",
        "The age property provides controlled access to the __age attribute.\n",
        "Benefits of Encapsulation:\n",
        "\n",
        "Data Protection: Prevents accidental modification of data.\n",
        "Code Organization: Improves code structure and readability.\n",
        "Flexibility: Allows you to change the internal implementation of a class without affecting external code.\n",
        "While Python doesn't enforce strict encapsulation like some other languages, following these conventions and practices can help you achieve the benefits of encapsulation in your code.\n",
        "\n",
        "9. What is a constructor in Python\n",
        "  -In Python, a constructor is a special method called __init__ that is automatically executed when an object of a class is created. It's used to initialize the object's attributes with initial values.\n",
        "\n",
        "Here's a breakdown:\n",
        "\n",
        "Purpose: The primary purpose of a constructor is to set up the initial state of an object by assigning values to its attributes.\n",
        "Automatic Execution: When you create an object using the class name, the __init__ method is called automatically.\n",
        "Parameters: The constructor can take parameters (including self, which refers to the object being created) that are used to initialize the attributes.\n",
        "self Keyword: The self parameter is a reference to the instance of the class. It's used to access and modify the object's attributes.\n",
        "Example:\n",
        "\n",
        "\n",
        "class Dog:\n",
        "    def __init__(self, name, breed):\n",
        "        self.name = name\n",
        "        self.breed = breed\n",
        "\n",
        "    def bark(self):\n",
        "        print(\"Woof!\")\n",
        "\n",
        "# Create a Dog object\n",
        "my_dog = Dog(\"Buddy\", \"Golden Retriever\")\n",
        "\n",
        "# Access attributes\n",
        "print(my_dog.name)  # Output: Buddy\n",
        "print(my_dog.breed) # Output: Golden Retriever\n",
        "Use code with caution\n",
        "In this example:\n",
        "\n",
        "__init__ is the constructor of the Dog class.\n",
        "It takes name and breed as parameters, along with self.\n",
        "Inside the constructor, the name and breed attributes of the object are initialized with the values passed as arguments.\n",
        "Benefits of using constructors:\n",
        "\n",
        "Initialization: Ensures that objects are created with a consistent initial state.\n",
        "Code Organization: Keeps initialization logic in a dedicated place.\n",
        "Flexibility: Allows you to create objects with different initial values.\n",
        "\n",
        "10. What are class and static methods in Python?\n",
        "  -Both class and static methods are special types of methods that are associated with a class rather than an instance of the class. However, they have different purposes and behaviors:\n",
        "\n",
        "Class Methods\n",
        "\n",
        "Purpose: Class methods operate on the class itself, not on instances of the class. They can access and modify class-level attributes but cannot access instance-level attributes.\n",
        "Decorator: Defined using the @classmethod decorator.\n",
        "cls Parameter: The first parameter of a class method is conventionally named cls, which refers to the class itself.\n",
        "Use Cases: Often used for factory methods that create instances of the class in different ways, or for methods that manipulate class-level data.\n",
        "Static Methods\n",
        "\n",
        "Purpose: Static methods are similar to regular functions but are grouped within a class for organizational purposes. They don't have access to either class-level or instance-level attributes.\n",
        "Decorator: Defined using the @staticmethod decorator.\n",
        "No Special Parameters: Static methods don't have any special parameters like self or cls.\n",
        "Use Cases: Typically used for utility functions that are related to the class but don't need to access any class or instance data.\n",
        "Example:\n",
        "\n",
        "\n",
        "class MyClass:\n",
        "    class_variable = 0\n",
        "\n",
        "    def __init__(self, instance_variable):\n",
        "        self.instance_variable = instance_variable\n",
        "\n",
        "    @classmethod\n",
        "    def increment_class_variable(cls):\n",
        "        cls.class_variable += 1\n",
        "\n",
        "    @staticmethod\n",
        "    def utility_function():\n",
        "        print(\"This is a utility function\")\n",
        "\n",
        "# Accessing class method\n",
        "MyClass.increment_class_variable()\n",
        "print(MyClass.class_variable)  # Output: 1\n",
        "\n",
        "# Accessing static method\n",
        "MyClass.utility_function()  # Output: This is a utility function\n",
        "Use code with caution\n",
        "In this example:\n",
        "\n",
        "increment_class_variable is a class method that increments the class_variable.\n",
        "utility_function is a static method that simply prints a message.\n",
        "Key Differences\n",
        "\n",
        "Feature\tClass Method\tStatic Method\n",
        "Operates on\tClass\tNeither class nor instance\n",
        "Access to data\tClass-level attributes\tNo class or instance data\n",
        "First parameter\tcls (class)\tNone\n",
        "Decorator\t@classmethod\t@staticmethod\n",
        "\n",
        "11. What is method overloading in Python\n",
        "  - Method overloading, in the traditional sense, is the ability to define multiple methods with the same name but different parameters within the same class. However, Python does not support method overloading in the same way as some other languages like Java or C++.\n",
        "\n",
        "How Python Handles Multiple Methods with the Same Name\n",
        "\n",
        "In Python, if you define multiple methods with the same name in a class, the last defined method will override the previous ones. This means that only the most recent definition of the method will be used when the method is called.\n",
        "\n",
        "Example:\n",
        "\n",
        "\n",
        "class MyClass:\n",
        "    def my_method(self, a):\n",
        "        print(\"Method with one argument:\", a)\n",
        "\n",
        "    def my_method(self, a, b):\n",
        "        print(\"Method with two arguments:\", a, b)\n",
        "\n",
        "obj = MyClass()\n",
        "obj.my_method(1, 2)  # Output: Method with two arguments: 1 2\n",
        "# obj.my_method(1)  # TypeError: my_method() takes 2 positional arguments but 1 was given\n",
        "Use code with caution\n",
        "In this example, the second definition of my_method overrides the first one. When you call obj.my_method(1, 2), the method with two arguments is executed. If you try to call obj.my_method(1) with only one argument, it will raise a TypeError.\n",
        "\n",
        "Alternatives to Method Overloading in Python\n",
        "\n",
        "While Python doesn't support traditional method overloading, you can achieve similar functionality using these approaches:\n",
        "\n",
        "Default Arguments: You can provide default values for parameters in your methods. This allows you to call the method with different numbers of arguments.\n",
        "Variable-Length Arguments (*args, `kwargs)**: You can useargsto accept a variable number of positional arguments and*kwargs` to accept a variable number of keyword arguments. This allows you to handle different combinations of arguments within a single method.\n",
        "Method Dispatching with Decorators: You can use decorators to create a dispatch mechanism that selects the appropriate method based on the types or values of the arguments.\n",
        "In essence, Python prioritizes flexibility and dynamic typing over strict method overloading. By using these alternative approaches, you can still achieve the desired functionality of having methods with the same name but different behaviors based on the input.\n",
        "\n",
        "12. What is method overriding in OOP\n",
        "  - Method overriding is a feature that allows a subclass or child class to provide a specific implementation of a method that is already defined in its parent class.\n",
        "\n",
        "How it works:\n",
        "\n",
        "Inheritance: Method overriding relies on the concept of inheritance. A child class inherits methods from its parent class.\n",
        "Same Method Signature: To override a method, the child class must define a method with the same name, parameters (number and type), and return type as the method in the parent class.\n",
        "Specific Implementation: The child class's version of the method provides a different implementation or behavior compared to the parent class's method.\n",
        "Polymorphism: Method overriding is a key element of polymorphism, allowing objects of different classes to respond to the same method call in their own specific ways.\n",
        "Example:\n",
        "\n",
        "\n",
        "class Animal:\n",
        "    def speak(self):\n",
        "        print(\"Generic animal sound\")\n",
        "\n",
        "class Dog(Animal):\n",
        "    def speak(self):\n",
        "        print(\"Woof!\")\n",
        "\n",
        "class Cat(Animal):\n",
        "    def speak(self):\n",
        "        print(\"Meow!\")\n",
        "\n",
        "my_dog = Dog()\n",
        "my_cat = Cat()\n",
        "\n",
        "my_dog.speak()  # Output: Woof!\n",
        "my_cat.speak()  # Output: Meow!\n",
        "Use code with caution\n",
        "In this example:\n",
        "\n",
        "The speak method is defined in the Animal class.\n",
        "The Dog and Cat classes override the speak method with their own implementations.\n",
        "When you call speak on a Dog object, it prints \"Woof!\", and when you call it on a Cat object, it prints \"Meow!\".\n",
        "Benefits of Method Overriding:\n",
        "\n",
        "Customization: Allows subclasses to provide specialized behavior for inherited methods.\n",
        "Polymorphism: Enables objects of different classes to respond differently to the same method call.\n",
        "Flexibility: Makes code more adaptable and extensible by allowing you to modify the behavior of existing classes without altering their original code.\n",
        "\n",
        "13. What is a property decorator in Python\n",
        "  -n Python, the @property decorator is a built-in decorator that allows you to define methods that behave like attributes. This means you can access them without using parentheses, but under the hood, they are actually calling methods.\n",
        "\n",
        "Here's a breakdown:\n",
        "\n",
        "Purpose: Properties provide a way to control access to an object's attributes and to add logic or validation to attribute access.\n",
        "Getter Method: The method decorated with @property acts as the getter method, returning the value of the attribute.\n",
        "Setter Method: You can define an optional setter method using @attribute_name.setter. This method allows you to control how the attribute is modified.\n",
        "Deleter Method: You can also define an optional deleter method using @attribute_name.deleter. This method is called when the attribute is deleted.\n",
        "Example:\n",
        "\n",
        "\n",
        "class Person:\n",
        "    def __init__(self, name):\n",
        "        self._name = name\n",
        "\n",
        "    @property\n",
        "    def name(self):\n",
        "        return self._name\n",
        "\n",
        "    @name.setter\n",
        "    def name(self, value):\n",
        "        if not isinstance(value, str):\n",
        "            raise TypeError(\"Name must be a string\")\n",
        "        self._name = value\n",
        "\n",
        "person = Person(\"Alice\")\n",
        "print(person.name)  # Output: Alice\n",
        "person.name = \"Bob\"\n",
        "print(person.name)  # Output: Bob\n",
        "# person.name = 123  # TypeError: Name must be a string\n",
        "Use code with caution\n",
        "In this example:\n",
        "\n",
        "The name property is defined using @property.\n",
        "The name method acts as the getter, returning the value of _name.\n",
        "The name.setter method acts as the setter, validating the new value before assigning it to _name.\n",
        "Benefits of using properties:\n",
        "\n",
        "Encapsulation: Provides controlled access to attributes, protecting them from accidental modification.\n",
        "Validation: Allows you to add validation logic to attribute assignment.\n",
        "Readability: Makes code more concise and readable by allowing you to access methods like attributes.\n",
        "Flexibility: Provides a way to add logic to attribute access without changing the external interface of the class.\n",
        "\n",
        "14. Why is polymorphism important in OOP\n",
        "  -Polymorphism, meaning \"many forms,\" is a fundamental concept in OOP that allows objects of different classes to be treated as objects of a common type. This capability brings several key benefits:\n",
        "\n",
        "Flexibility and Reusability: Polymorphism enables you to write code that can work with objects of various types without needing to know their specific class. This promotes code reusability and reduces the need for repetitive code blocks for different object types.\n",
        "\n",
        "Extensibility and Maintainability: Polymorphism makes it easier to extend and maintain your code. You can introduce new classes and objects without modifying existing code, as long as the new objects adhere to the common interface or base class. This leads to more modular and maintainable systems.\n",
        "\n",
        "Loose Coupling: Polymorphism promotes loose coupling between objects. Objects can interact with each other through common interfaces or abstract classes, without being tightly bound to specific implementations. This reduces dependencies and makes the system more flexible to changes.\n",
        "\n",
        "Simplified Development: Polymorphism simplifies development by allowing you to focus on the common behavior of objects rather than their specific types. This reduces code complexity and makes it easier to reason about the system.\n",
        "\n",
        "Enhanced Code Readability: By using polymorphism, you can write code that is more expressive and easier to understand. Instead of having conditional statements to handle different object types, you can use a single method call that works for all objects adhering to the common interface.\n",
        "\n",
        "Example Scenario:\n",
        "\n",
        "Consider a drawing application that needs to handle different shapes like circles, squares, and triangles. With polymorphism, you can define a common draw() method for all shapes. Then, each specific shape class can override the draw() method to implement its own drawing logic. This way, you can easily add new shapes without modifying the core drawing functionality.\n",
        "\n",
        "In summary, polymorphism is essential for building flexible, extensible, and maintainable object-oriented systems. It allows you to write code that is more reusable, readable, and adaptable to changes. By embracing polymorphism, you can unlock the full potential of OOP and create robust and elegant software solutions.\n",
        "\n",
        "15. What is an abstract class in Python\n",
        "  -In Python, an abstract class is a class that cannot be instantiated on its own. It's meant to be a blueprint for other classes (subclasses) to inherit from and implement its abstract methods.\n",
        "\n",
        "Key aspects of abstract classes:\n",
        "\n",
        "abc Module: To create abstract classes in Python, you need to use the abc module (Abstract Base Classes).\n",
        "ABC Class: You inherit from the ABC class to make your class abstract.\n",
        "abstractmethod Decorator: You use the @abstractmethod decorator to mark methods as abstract. These methods have no implementation in the abstract class and must be implemented by the concrete subclasses.\n",
        "Purpose: Abstract classes define a common interface for a group of related classes, ensuring that they all have certain methods. This helps to enforce consistency and prevent errors.\n",
        "Example:\n",
        "\n",
        "\n",
        "from abc import ABC, abstractmethod\n",
        "\n",
        "class Animal(ABC):\n",
        "    @abstractmethod\n",
        "    def speak(self):\n",
        "        pass\n",
        "\n",
        "class Dog(Animal):\n",
        "    def speak(self):\n",
        "        print(\"Woof!\")\n",
        "\n",
        "class Cat(Animal):\n",
        "    def speak(self):\n",
        "        print(\"Meow!\")\n",
        "\n",
        "# animal = Animal()  # TypeError: Can't instantiate abstract class Animal with abstract methods speak\n",
        "my_dog = Dog()\n",
        "my_cat = Cat()\n",
        "\n",
        "my_dog.speak()  # Output: Woof!\n",
        "my_cat.speak()  # Output: Meow!\n",
        "Use code with caution\n",
        "In this example:\n",
        "\n",
        "Animal is an abstract class.\n",
        "speak is an abstract method.\n",
        "Dog and Cat are concrete subclasses that implement the speak method.\n",
        "You cannot create an instance of Animal directly.\n",
        "Benefits of using abstract classes:\n",
        "\n",
        "Enforce Interface: Ensures that subclasses implement certain methods.\n",
        "Code Reusability: Provides a common base for related classes.\n",
        "Polymorphism: Enables objects of different classes to respond to the same method call in different ways.\n",
        "Maintainability: Makes code easier to understand and maintain by defining a clear interface.\n",
        "\n",
        "16.  What are the advantages of OOP\n",
        "  -Okay, let's discuss the advantages of Object-Oriented Programming (OOP):\n",
        "\n",
        "OOP offers several benefits that make it a popular and powerful programming paradigm:\n",
        "\n",
        "Modularity and Reusability: OOP promotes the organization of code into reusable modules called classes. These classes can be used as building blocks to create complex systems, and their functionality can be reused in different parts of the program or even in other projects. This reduces code duplication and improves development efficiency.\n",
        "\n",
        "Encapsulation and Data Protection: OOP provides mechanisms for encapsulating data and methods within objects, protecting them from accidental or unauthorized access. This improves data security and integrity, as well as code maintainability.\n",
        "\n",
        "Abstraction and Simplification: OOP allows you to abstract away complex implementation details and focus on the essential features of objects. This simplifies the understanding and use of objects, making code easier to read, write, and maintain.\n",
        "\n",
        "Flexibility and Extensibility: OOP enables the creation of flexible and extensible systems. You can easily add new functionality or modify existing behavior by introducing new classes or overriding existing methods. This adaptability is crucial for evolving software projects.\n",
        "\n",
        "Polymorphism and Code Reusability: OOP supports polymorphism, which allows objects of different classes to respond to the same method call in their own specific ways. This promotes code reusability and reduces the need for writing separate logic for different object types.\n",
        "\n",
        "Maintainability and Collaboration: OOP's modular and structured approach makes code easier to maintain and debug. It also facilitates collaboration among developers, as different team members can work on separate classes or modules without interfering with each other's code.\n",
        "\n",
        "In summary, OOP offers the following advantages:\n",
        "\n",
        "Improved code organization and reusability\n",
        "Enhanced data security and integrity\n",
        "Simplified system design and understanding\n",
        "Increased flexibility and extensibility\n",
        "Reduced code duplication and development time\n",
        "Better maintainability and collaboration\n",
        "These advantages make OOP a valuable tool for building complex, robust, and maintainable software systems. It's widely used in various domains, including web development, game development, data science, and more.\n",
        "\n",
        "17.What is the difference between a class variable and an instance variable?\n",
        "  - Class Variables\n",
        "\n",
        "Definition: Class variables are declared within the class but outside of any methods. They are shared by all instances (objects) of the class.\n",
        "Access: Class variables can be accessed using the class name or through instances of the class.\n",
        "Modification: Modifying a class variable through the class name affects all instances. Modifying it through an instance only affects that instance (creating a new instance variable that shadows the class variable).\n",
        "Use Cases: Storing data that is common to all instances of the class, like counters, configurations, or default values.\n",
        "Instance Variables\n",
        "\n",
        "Definition: Instance variables are declared inside the constructor (__init__ method) using the self keyword. They are unique to each instance of the class.\n",
        "Access: Instance variables can only be accessed through instances of the class.\n",
        "Modification: Modifying an instance variable only affects that specific instance.\n",
        "Use Cases: Storing data that is specific to each instance, like name, age, or properties of an object.\n",
        "Example:\n",
        "\n",
        "\n",
        "class Dog:\n",
        "    breed = \"Canine\"  # Class variable\n",
        "\n",
        "    def __init__(self, name):\n",
        "        self.name = name  # Instance variable\n",
        "\n",
        "dog1 = Dog(\"Buddy\")\n",
        "dog2 = Dog(\"Lucy\")\n",
        "\n",
        "print(dog1.breed)  # Output: Canine\n",
        "print(dog2.breed)  # Output: Canine\n",
        "\n",
        "dog1.breed = \"Labrador\"  # Creates an instance variable for dog1\n",
        "print(dog1.breed)  # Output: Labrador\n",
        "print(dog2.breed)  # Output: Canine (class variable unchanged)\n",
        "\n",
        "Dog.breed = \"Mammal\"  # Modifies the class variable\n",
        "print(dog1.breed)  # Output: Labrador (instance variable shadows class variable)\n",
        "print(dog2.breed)  # Output: Mammal\n",
        "Use code with caution\n",
        "Key Differences:\n",
        "\n",
        "Feature\tClass Variable\tInstance Variable\n",
        "Declaration\tWithin class, outside methods\tInside constructor (__init__)\n",
        "Scope\tShared by all instances\tUnique to each instance\n",
        "Access\tClass name or instance\tInstance only\n",
        "Modification\tAffects all instances (unless shadowed)\tAffects only the instance\n",
        "\n",
        "18. What is multiple inheritance in Python?\n",
        "  - Multiple inheritance is a feature in object-oriented programming where a class can inherit from more than one parent class. This allows a class to combine the functionality and attributes of multiple base classes.\n",
        "\n",
        "How it works:\n",
        "\n",
        "Defining Multiple Parent Classes: When defining a class, you can specify multiple parent classes in the class definition, separated by commas.\n",
        "Inheriting Attributes and Methods: The child class inherits all the attributes and methods from all its parent classes.\n",
        "Method Resolution Order (MRO): Python uses a specific algorithm called Method Resolution Order (MRO) to determine the order in which methods are searched for when they are called on an object. This ensures that the correct method is found, even if there are methods with the same name in multiple parent classes.\n",
        "Example:\n",
        "\n",
        "\n",
        "class Animal:\n",
        "    def speak(self):\n",
        "        print(\"Generic animal sound\")\n",
        "\n",
        "class Pet:\n",
        "    def play(self):\n",
        "        print(\"Pet is playing\")\n",
        "\n",
        "class Dog(Animal, Pet):\n",
        "    def bark(self):\n",
        "        print(\"Woof!\")\n",
        "\n",
        "my_dog = Dog()\n",
        "my_dog.speak()  # Output: Generic animal sound\n",
        "my_dog.play()  # Output: Pet is playing\n",
        "my_dog.bark()  # Output: Woof!\n",
        "Use code with caution\n",
        "In this example:\n",
        "\n",
        "Dog inherits from both Animal and Pet.\n",
        "Dog has access to the speak method from Animal, the play method from Pet, and its own bark method.\n",
        "Benefits of Multiple Inheritance:\n",
        "\n",
        "Code Reusability: Allows you to combine the functionality of multiple classes without rewriting code.\n",
        "Flexibility: Provides a way to create complex classes with diverse features.\n",
        "Modeling Real-World Relationships: Can be used to represent real-world relationships where objects have multiple characteristics.\n",
        "Potential Issues and Considerations:\n",
        "\n",
        "Diamond Problem: When two parent classes have a common ancestor, and the child class inherits from both, there can be ambiguity about which method to call. Python's MRO helps resolve this issue, but it's important to be aware of it.\n",
        "Complexity: Multiple inheritance can make code more complex and harder to understand if not used carefully.\n",
        "In general, multiple inheritance can be a powerful tool, but it should be used with caution and careful planning to avoid potential issues.\n",
        "\n",
        "19.  Explain the purpose of ‘’__str__’ and ‘__repr__’ ‘ methods in Python.\n",
        "  - oth __str__ and __repr__ are special methods (also called \"dunder\" methods) used to represent objects as strings. However, they serve slightly different purposes:\n",
        "\n",
        "__str__\n",
        "\n",
        "Purpose: Intended for creating a user-friendly, informal string representation of an object. It should be easily readable and understandable by humans.\n",
        "Usage: Called by the str() built-in function and the print() function to display an object.\n",
        "Example: If you have a Person object with a name attribute, the __str__ method might return a string like \"Person(name='Alice')\".\n",
        "__repr__\n",
        "\n",
        "Purpose: Intended for creating a more detailed, unambiguous string representation of an object. It should ideally be a valid Python expression that could be used to recreate the object.\n",
        "Usage: Called by the repr() built-in function and when you simply type the object's name in the interactive interpreter.\n",
        "Example: For the same Person object, the __repr__ method might return a string like \"Person('Alice')\", which could be used to create a new Person object with the same name.\n",
        "Key Differences\n",
        "\n",
        "Feature\t__str__\t__repr__\n",
        "Purpose\tUser-friendly, informal\tDetailed, unambiguous\n",
        "Usage\tstr(), print()\trepr(), interactive interpreter\n",
        "Ideal Output\tReadable by humans\tValid Python expression\n",
        "Example:\n",
        "\n",
        "\n",
        "class Person:\n",
        "    def __init__(self, name):\n",
        "        self.name = name\n",
        "\n",
        "    def __str__(self):\n",
        "        return f\"Person(name='{self.name}')\"\n",
        "\n",
        "    def __repr__(self):\n",
        "        return f\"Person('{self.name}')\"\n",
        "\n",
        "person = Person(\"Alice\")\n",
        "print(person)  # Output: Person(name='Alice') (calls __str__)\n",
        "print(repr(person))  # Output: Person('Alice') (calls __repr__)\n",
        "Use code with caution\n",
        "In essence:\n",
        "\n",
        "Use __str__ when you want a human-readable representation of the object.\n",
        "Use __repr__ when you want a more technical, unambiguous representation that can be used to recreate the object.\n",
        "If you only define one of these methods, Python will use it for both str() and repr() calls. However, it's generally recommended to define both methods for clarity and to provide the most appropriate representation in each context.\n",
        "\n",
        "20. What is the significance of the ‘super()’ function in Python\n",
        "  - n Python, the super() function is used to call methods from a parent class (superclass) in a child class (subclass). It's particularly useful in the context of inheritance.\n",
        "\n",
        "Key Significance\n",
        "\n",
        "Accessing Parent Class Methods: super() allows you to access and invoke methods of the parent class without explicitly naming the parent class. This is especially helpful when dealing with multiple inheritance or when you want to avoid hardcoding the parent class name.\n",
        "Method Overriding: When you override a method in a child class, you might still want to use the functionality of the parent class's version of that method. super() provides a way to call the parent class's method from within the overridden method in the child class.\n",
        "Maintaining the Inheritance Hierarchy: Using super() helps to ensure that the method resolution order (MRO) is followed correctly when calling methods in a complex inheritance hierarchy.\n",
        "Example\n",
        "\n",
        "\n",
        "class Animal:\n",
        "    def __init__(self, name):\n",
        "        self.name = name\n",
        "\n",
        "    def speak(self):\n",
        "        print(\"Generic animal sound\")\n",
        "\n",
        "class Dog(Animal):\n",
        "    def __init__(self, name, breed):\n",
        "        super().__init__(name)  # Call Animal's __init__\n",
        "        self.breed = breed\n",
        "\n",
        "    def speak(self):\n",
        "        super().speak()  # Call Animal's speak\n",
        "        print(\"Woof!\")\n",
        "\n",
        "my_dog = Dog(\"Buddy\", \"Golden Retriever\")\n",
        "my_dog.speak()  # Output: Generic animal sound\\nWoof!\n",
        "Use code with caution\n",
        "In this example:\n",
        "\n",
        "In Dog's __init__, super().__init__(name) calls the __init__ method of the parent class (Animal) to initialize the name attribute.\n",
        "In Dog's speak, super().speak() calls the speak method of the parent class (Animal) before printing \"Woof!\".\n",
        "Benefits\n",
        "\n",
        "Code Reusability: Avoids redundant code by leveraging the functionality of parent classes.\n",
        "Maintainability: Makes code easier to update and modify as changes in the parent class are automatically reflected in the child class.\n",
        "Flexibility: Allows for greater flexibility in inheritance hierarchies.\n",
        "In essence, super() is a crucial tool for effectively utilizing inheritance in Python. It promotes code reusability, maintainability, and flexibility while ensuring the proper functioning of the inheritance hierarchy.\n",
        "\n",
        "21. What is the significance of the __del__ method in Python?\n",
        "  - In Python, the __del__ method is a special method (also called a \"destructor\") that is called when an object is about to be destroyed or garbage collected. It's the counterpart to the __init__ constructor.\n",
        "\n",
        "Key Significance\n",
        "\n",
        "Cleanup Actions: The primary purpose of the __del__ method is to perform cleanup actions before an object is removed from memory. This might involve releasing resources like file handles, network connections, or database connections that were acquired by the object during its lifetime.\n",
        "\n",
        "Resource Management: By using the __del__ method, you can ensure that resources are properly released when they are no longer needed, preventing memory leaks and potential issues.\n",
        "\n",
        "Object Finalization: The __del__ method provides a way to finalize an object's state or perform any necessary actions before it's destroyed.\n",
        "\n",
        "Example\n",
        "\n",
        "\n",
        "class MyFile:\n",
        "    def __init__(self, filename):\n",
        "        self.filename = filename\n",
        "        self.file = open(filename, 'w')\n",
        "\n",
        "    def __del__(self):\n",
        "        self.file.close()\n",
        "        print(f\"File '{self.filename}' closed.\")\n",
        "\n",
        "my_file = MyFile(\"example.txt\")\n",
        "# ... operations with the file ...\n",
        "del my_file  # Calls __del__ to close the file\n",
        "Use code with caution\n",
        "In this example:\n",
        "\n",
        "The __del__ method of the MyFile class closes the file when the my_file object is deleted.\n",
        "Important Considerations\n",
        "\n",
        "Non-deterministic Timing: The exact timing of when the __del__ method is called is not guaranteed, as it depends on the garbage collection process. Therefore, you shouldn't rely on it for critical cleanup tasks.\n",
        "Circular References: If objects have circular references (referencing each other), their __del__ methods might not be called, leading to potential memory leaks.\n",
        "Exceptions in __del__: If an exception occurs in the __del__ method, it might be ignored, and the object might not be properly cleaned up.\n",
        "Alternatives for Resource Management\n",
        "\n",
        "Due to the potential issues with __del__, it's often recommended to use other techniques for resource management, such as:\n",
        "\n",
        "Context Managers (with statement): Provides a more reliable way to manage resources, ensuring they are released when the with block exits.\n",
        "try...finally blocks: Allows you to perform cleanup actions in the finally block, which is executed regardless of whether an exception occurs.\n",
        "In general, while the __del__ method can be useful for cleanup tasks, it's important to be aware of its limitations and consider alternative approaches for more robust resource management.\n",
        "\n",
        "22. What is the difference between @staticmethod and @classmethod in Python?\n",
        "  - Both @staticmethod and @classmethod are decorators used to define methods that are bound to a class rather than an instance of the class. However, they differ in how they interact with the class:\n",
        "\n",
        "@staticmethod\n",
        "\n",
        "Purpose: Defines a method that is associated with the class but doesn't have access to the class or instance itself. It behaves like a regular function but is grouped within the class for organizational purposes.\n",
        "Parameters: Doesn't take any implicit parameters (like self or cls).\n",
        "Use Cases: Typically used for utility functions that are related to the class but don't need to access any class or instance data.\n",
        "@classmethod\n",
        "\n",
        "Purpose: Defines a method that operates on the class itself, not on instances of the class. It can access and modify class-level attributes but cannot access instance-level attributes.\n",
        "Parameters: Takes an implicit first parameter conventionally named cls, which refers to the class itself.\n",
        "Use Cases: Often used for factory methods that create instances of the class in different ways, or for methods that manipulate class-level data.\n",
        "Key Differences\n",
        "\n",
        "Feature\t@staticmethod\t@classmethod\n",
        "Operates on\tNeither class nor instance\tClass\n",
        "Access to data\tNo class or instance data\tClass-level attributes\n",
        "First parameter\tNone\tcls (class)\n",
        "Example\n",
        "\n",
        "\n",
        "class MyClass:\n",
        "    class_variable = 0\n",
        "\n",
        "    @staticmethod\n",
        "    def static_method():\n",
        "        print(\"This is a static method\")\n",
        "\n",
        "    @classmethod\n",
        "    def class_method(cls):\n",
        "        print(\"This is a class method of\", cls)\n",
        "        cls.class_variable += 1\n",
        "\n",
        "MyClass.static_method()  # Output: This is a static method\n",
        "MyClass.class_method()  # Output: This is a class method of <class '__main__.MyClass'>\n",
        "print(MyClass.class_variable)  # Output: 1\n",
        "Use code with caution\n",
        "In essence:\n",
        "\n",
        "Use @staticmethod for methods that don't need to access any class or instance data.\n",
        "Use @classmethod for methods that need to operate on the class itself.\n",
        "Choosing the right decorator depends on the specific functionality you want to achieve within your class.\n",
        "\n",
        "23.  How does polymorphism work in Python with inheritance?\n",
        "  - Polymorphism, meaning \"many forms,\" allows objects of different classes to respond to the same method call in their own specific ways. In Python, inheritance plays a crucial role in enabling polymorphism.\n",
        "\n",
        "Here's how it works:\n",
        "\n",
        "Inheritance: A child class inherits methods from its parent class.\n",
        "Method Overriding: The child class can override the inherited methods with its own implementations, providing specific behavior.\n",
        "Dynamic Binding: When a method is called on an object, Python determines the correct version of the method to execute at runtime based on the object's actual type. This is known as dynamic binding or late binding.\n",
        "Example\n",
        "\n",
        "\n",
        "class Animal:\n",
        "    def speak(self):\n",
        "        print(\"Generic animal sound\")\n",
        "\n",
        "class Dog(Animal):\n",
        "    def speak(self):\n",
        "        print(\"Woof!\")\n",
        "\n",
        "class Cat(Animal):\n",
        "    def speak(self):\n",
        "        print(\"Meow!\")\n",
        "\n",
        "animals = [Dog(), Cat()]\n",
        "\n",
        "for animal in animals:\n",
        "    animal.speak()  # Output: Woof! Meow!\n",
        "Use code with caution\n",
        "In this example:\n",
        "\n",
        "The speak method is defined in the Animal class.\n",
        "The Dog and Cat classes override the speak method with their own implementations.\n",
        "When the loop iterates through the animals list, the speak method is called on each object.\n",
        "Python dynamically determines which version of speak to execute based on the object's type (either Dog or Cat).\n",
        "Benefits\n",
        "\n",
        "Flexibility: Write code that can work with objects of different types without needing to know their exact class.\n",
        "Code Reusability: Reduce code duplication by using common interfaces.\n",
        "Extensibility: Easily add new types of objects without modifying existing code.\n",
        "Maintainability: Make code easier to understand and maintain.\n",
        "In essence, polymorphism with inheritance allows you to create a hierarchy of classes where objects can be treated generically through a common interface, while still retaining their specific behaviors. This promotes flexibility, code reuse, and maintainability in object-oriented programs.\n",
        "\n",
        "24. What is method chaining in Python OOP?\n",
        "  - Method chaining is a technique in object-oriented programming where you call multiple methods on an object in a single line of code, one after the other. This is achieved by having each method return the object itself (self) so that the next method can be called directly on the result.\n",
        "\n",
        "How it works:\n",
        "\n",
        "Methods Returning self: Each method in the chain, except possibly the last one, must return the object itself (self).\n",
        "Chained Calls: Subsequent methods are then called directly on the returned object, creating a chain of method calls.\n",
        "Example\n",
        "\n",
        "\n",
        "class Person:\n",
        "    def __init__(self, name):\n",
        "        self.name = name\n",
        "\n",
        "    def set_age(self, age):\n",
        "        self.age = age\n",
        "        return self  # Return self for chaining\n",
        "\n",
        "    def set_city(self, city):\n",
        "        self.city = city\n",
        "        return self  # Return self for chaining\n",
        "\n",
        "    def display_info(self):\n",
        "        print(f\"Name: {self.name}, Age: {self.age}, City: {self.city}\")\n",
        "\n",
        "person = Person(\"Alice\")\n",
        "person.set_age(30).set_city(\"New York\").display_info()\n",
        "Use code with caution\n",
        "In this example:\n",
        "\n",
        "The set_age and set_city methods return self, allowing for chaining.\n",
        "The line person.set_age(30).set_city(\"New York\").display_info() calls the three methods in sequence.\n",
        "Benefits\n",
        "\n",
        "Concise Code: Makes code more compact and readable by avoiding intermediate variable assignments.\n",
        "Fluent Interface: Creates a more natural and expressive way to interact with objects.\n",
        "Improved Maintainability: Can make code easier to understand and modify by grouping related operations together.\n",
        "Use Cases\n",
        "\n",
        "Method chaining is commonly used in scenarios where you need to perform a series of operations on an object, such as:\n",
        "\n",
        "Building objects: Setting multiple properties of an object during initialization.\n",
        "Data manipulation: Applying a sequence of transformations to data.\n",
        "API interactions: Making multiple requests to an API in a single flow.\n",
        "In essence, method chaining is a stylistic technique that can improve the readability and maintainability of your code by creating a more fluid and expressive way to interact with objects.\n",
        "\n",
        "25. What is the purpose of the __call__ method in Python?\n",
        "  - In Python, the __call__ method is a special method that allows you to make an object callable like a function. When you define the __call__ method in a class, you can then use instances of that class as if they were functions, using the function call syntax (object()).\n",
        "\n",
        "Purpose\n",
        "\n",
        "Callable Objects: The primary purpose of __call__ is to make objects behave like functions. This can be useful for creating objects that represent operations or actions that can be invoked repeatedly.\n",
        "\n",
        "State Management: Callable objects can store internal state, which can be accessed and modified by the __call__ method. This allows you to create objects that encapsulate both data and behavior.\n",
        "\n",
        "Function-Like Objects: You can use __call__ to define objects that behave like functions, taking arguments and returning values.\n",
        "\n",
        "Example\n",
        "\n",
        "\n",
        "class Counter:\n",
        "    def __init__(self):\n",
        "        self.count = 0\n",
        "\n",
        "    def __call__(self):\n",
        "        self.count += 1\n",
        "        return self.count\n",
        "\n",
        "counter = Counter()\n",
        "print(counter())  # Output: 1\n",
        "print(counter())  # Output: 2\n",
        "print(counter())  # Output: 3\n",
        "Use code with caution\n",
        "In this example:\n",
        "\n",
        "The Counter class has a __call__ method that increments the count and returns it.\n",
        "The counter object can be called like a function using counter(), which increases the count and prints the current value.\n",
        "Benefits\n",
        "\n",
        "Encapsulation: Allows you to bundle data and behavior together in a single object.\n",
        "Flexibility: Provides a way to create objects that can be customized and reused like functions.\n",
        "Readability: Can make code more concise and expressive by treating objects as callable entities.\n",
        "Use Cases\n",
        "\n",
        "The __call__ method can be used in various scenarios, such as:\n",
        "\n",
        "Creating decorators: Callable objects can be used as decorators to modify the behavior of functions.\n",
        "Implementing callbacks: Callable objects can be passed as callbacks to be executed when certain events occur.\n",
        "Defining custom functions: You can use __call__ to create objects that represent custom functions with specific logic.\n",
        "In essence, the __call__ method provides a powerful way to create objects that behave like functions, offering flexibility and encapsulation in object-oriented programming."
      ],
      "metadata": {
        "id": "Tfs_lZWP4rxv"
      }
    },
    {
      "cell_type": "code",
      "source": [
        "###Practical questions"
      ],
      "metadata": {
        "id": "AmQGFDIxAjEB"
      },
      "execution_count": 2,
      "outputs": []
    },
    {
      "cell_type": "markdown",
      "source": [
        "1. Create a parent class Animal with a method speak() that prints a generic message. Create a child class Dog\n",
        "that overrides the speak() method to print \"Bark!\".\n",
        "  "
      ],
      "metadata": {
        "id": "CJTjJ2IbAzIJ"
      }
    },
    {
      "cell_type": "code",
      "source": [
        "# Parent class\n",
        "class Animal:\n",
        "    def speak(self):\n",
        "        \"\"\"Generic message for animals\"\"\"\n",
        "        print(\"This animal makes a sound.\")\n",
        "\n",
        "# Child class\n",
        "class Dog(Animal):\n",
        "    def speak(self):\n",
        "        \"\"\"Specific message for a dog\"\"\"\n",
        "        print(\"Bark!\")\n",
        "\n",
        "# Create instances and call the speak method\n",
        "if __name__ == \"__main__\":\n",
        "    generic_animal = Animal()  # Instance of the parent class\n",
        "    dog = Dog()  # Instance of the child class\n",
        "\n",
        "    # Calling the speak method\n",
        "    print(\"Animal says:\")\n",
        "    generic_animal.speak()  # Output: This animal makes a sound.\n",
        "\n",
        "    print(\"\\nDog says:\")\n",
        "    dog.speak()  # Output: Bark!\n"
      ],
      "metadata": {
        "colab": {
          "base_uri": "https://localhost:8080/"
        },
        "id": "U1BOsu3ICiKA",
        "outputId": "d38897c4-dc66-4a39-cd5a-7f776a65f546"
      },
      "execution_count": 3,
      "outputs": [
        {
          "output_type": "stream",
          "name": "stdout",
          "text": [
            "Animal says:\n",
            "This animal makes a sound.\n",
            "\n",
            "Dog says:\n",
            "Bark!\n"
          ]
        }
      ]
    },
    {
      "cell_type": "markdown",
      "source": [
        "2. Write a program to create an abstract class Shape with a method area(). Derive classes Circle and Rectangle\n",
        "from it and implement the area() method in both."
      ],
      "metadata": {
        "id": "K4LHdpofBuxd"
      }
    },
    {
      "cell_type": "code",
      "source": [
        "from abc import ABC, abstractmethod\n",
        "import math\n",
        "\n",
        "class Shape(ABC):\n",
        "    @abstractmethod\n",
        "    def area(self):\n",
        "        pass\n",
        "\n",
        "class Circle(Shape):\n",
        "    def __init__(self, radius):\n",
        "        self.radius = radius\n",
        "\n",
        "    def area(self):\n",
        "        return math.pi * self.radius ** 2\n",
        "\n",
        "class Rectangle(Shape):\n",
        "    def __init__(self, length, width):\n",
        "        self.length = length\n",
        "        self.width = width\n",
        "\n",
        "    def area(self):\n",
        "        return self.length * self.width\n",
        "\n",
        "# Create instances\n",
        "circle = Circle(5)\n",
        "rectangle = Rectangle(4, 6)\n",
        "\n",
        "# Calculate and print areas\n",
        "print(f\"Area of circle: {circle.area()}\")\n",
        "print(f\"Area of rectangle: {rectangle.area()}\")"
      ],
      "metadata": {
        "colab": {
          "base_uri": "https://localhost:8080/"
        },
        "id": "9HNw2uPOC2nB",
        "outputId": "aebe7453-eeaa-47f7-f357-8e2603a06da3"
      },
      "execution_count": 4,
      "outputs": [
        {
          "output_type": "stream",
          "name": "stdout",
          "text": [
            "Area of circle: 78.53981633974483\n",
            "Area of rectangle: 24\n"
          ]
        }
      ]
    },
    {
      "cell_type": "markdown",
      "source": [
        "3.  Implement a multi-level inheritance scenario where a class Vehicle has an attribute type. Derive a class Car\n",
        "and further derive a class ElectricCar that adds a battery attribute."
      ],
      "metadata": {
        "id": "AXljn-P7C7TF"
      }
    },
    {
      "cell_type": "code",
      "source": [
        "class Vehicle:\n",
        "    def __init__(self, type):\n",
        "        self.type = type\n",
        "\n",
        "class Car(Vehicle):\n",
        "    def __init__(self, type, model):\n",
        "        super().__init__(type)  # Initialize Vehicle's attributes\n",
        "        self.model = model\n",
        "\n",
        "class ElectricCar(Car):\n",
        "    def __init__(self, type, model, battery):\n",
        "        super().__init__(type, model)  # Initialize Car's attributes\n",
        "        self.battery = battery\n",
        "\n",
        "# Create instances\n",
        "vehicle = Vehicle(\"Ground\")\n",
        "car = Car(\"Ground\", \"Sedan\")\n",
        "electric_car = ElectricCar(\"Ground\", \"Tesla Model 3\", \"Lithium-ion\")\n",
        "\n",
        "# Access attributes\n",
        "print(vehicle.type)  # Output: Ground\n",
        "print(car.type, car.model)  # Output: Ground Sedan\n",
        "print(electric_car.type, electric_car.model, electric_car.battery)  # Output: Ground Tesla Model 3 Lithium-ion"
      ],
      "metadata": {
        "colab": {
          "base_uri": "https://localhost:8080/"
        },
        "id": "m2ak55-iDDPH",
        "outputId": "d93e25c5-a690-4696-c53d-b5f6fd81f812"
      },
      "execution_count": 5,
      "outputs": [
        {
          "output_type": "stream",
          "name": "stdout",
          "text": [
            "Ground\n",
            "Ground Sedan\n",
            "Ground Tesla Model 3 Lithium-ion\n"
          ]
        }
      ]
    },
    {
      "cell_type": "markdown",
      "source": [
        "4. SAME QUESTION GIVEN IN QUESTION AS Q 3"
      ],
      "metadata": {
        "id": "yuYCCCO4DIjT"
      }
    },
    {
      "cell_type": "markdown",
      "source": [
        "5.Write a program to demonstrate encapsulation by creating a class BankAccount with private attributes\n",
        "balance and methods to deposit, withdraw, and check balance."
      ],
      "metadata": {
        "id": "6tSAUpuiDbLI"
      }
    },
    {
      "cell_type": "code",
      "source": [
        "class BankAccount:\n",
        "    def __init__(self, initial_balance=0):\n",
        "        self.__balance = initial_balance  # Private attribute\n",
        "\n",
        "    def deposit(self, amount):\n",
        "        if amount > 0:\n",
        "            self.__balance += amount\n",
        "            print(f\"Deposited: ${amount:.2f}\")\n",
        "        else:\n",
        "            print(\"Invalid deposit amount.\")\n",
        "\n",
        "    def withdraw(self, amount):\n",
        "        if 0 < amount <= self.__balance:\n",
        "            self.__balance -= amount\n",
        "            print(f\"Withdrew: ${amount:.2f}\")\n",
        "        else:\n",
        "            print(\"Insufficient funds or invalid withdrawal amount.\")\n",
        "\n",
        "    def check_balance(self):\n",
        "        print(f\"Current balance: ${self.__balance:.2f}\")\n",
        "\n",
        "# Create an account\n",
        "account = BankAccount(1000)\n",
        "\n",
        "# Perform operations\n",
        "account.deposit(500)\n",
        "account.withdraw(200)\n",
        "account.check_balance()"
      ],
      "metadata": {
        "colab": {
          "base_uri": "https://localhost:8080/"
        },
        "id": "bOwwg4iJD4B3",
        "outputId": "61fe1518-2ad9-4ea5-b70a-82c0084864e2"
      },
      "execution_count": 6,
      "outputs": [
        {
          "output_type": "stream",
          "name": "stdout",
          "text": [
            "Deposited: $500.00\n",
            "Withdrew: $200.00\n",
            "Current balance: $1300.00\n"
          ]
        }
      ]
    },
    {
      "cell_type": "markdown",
      "source": [
        "6. Demonstrate runtime polymorphism using a method play() in a base class Instrument. Derive classes Guitar\n",
        "and Piano that implement their own version of play()."
      ],
      "metadata": {
        "id": "TVwUaZ6ED-ui"
      }
    },
    {
      "cell_type": "code",
      "source": [
        "class Instrument:\n",
        "    def play(self):\n",
        "        print(\"Playing a generic instrument\")\n",
        "\n",
        "class Guitar(Instrument):\n",
        "    def play(self):\n",
        "        print(\"Strumming the guitar\")\n",
        "\n",
        "class Piano(Instrument):\n",
        "    def play(self):\n",
        "        print(\"Playing the piano keys\")\n",
        "\n",
        "# Create instances\n",
        "instruments = [Instrument(), Guitar(), Piano()]\n",
        "\n",
        "# Demonstrate polymorphism\n",
        "for instrument in instruments:\n",
        "    instrument.play()"
      ],
      "metadata": {
        "colab": {
          "base_uri": "https://localhost:8080/"
        },
        "id": "36OGkMZjEG_U",
        "outputId": "c24512aa-2e56-46f8-fc55-a551c6d233fd"
      },
      "execution_count": 7,
      "outputs": [
        {
          "output_type": "stream",
          "name": "stdout",
          "text": [
            "Playing a generic instrument\n",
            "Strumming the guitar\n",
            "Playing the piano keys\n"
          ]
        }
      ]
    },
    {
      "cell_type": "markdown",
      "source": [
        "7. Create a class MathOperations with a class method add_numbers() to add two numbers and a static\n",
        "method subtract_numbers() to subtract two numbers."
      ],
      "metadata": {
        "id": "QTkozuHeES_8"
      }
    },
    {
      "cell_type": "code",
      "source": [
        "class MathOperations:\n",
        "    @classmethod\n",
        "    def add_numbers(cls, num1, num2):\n",
        "        return num1 + num2\n",
        "\n",
        "    @staticmethod\n",
        "    def subtract_numbers(num1, num2):\n",
        "        return num1 - num2\n",
        "\n",
        "# Using the class methods\n",
        "result1 = MathOperations.add_numbers(5, 3)\n",
        "result2 = MathOperations.subtract_numbers(10, 4)\n",
        "\n",
        "print(f\"Addition: {result1}\")  # Output: Addition: 8\n",
        "print(f\"Subtraction: {result2}\")  # Output: Subtraction: 6"
      ],
      "metadata": {
        "colab": {
          "base_uri": "https://localhost:8080/"
        },
        "id": "sqzh28RbEakD",
        "outputId": "5bf98b42-a2b9-4c95-91f7-cf54dcd87e27"
      },
      "execution_count": 8,
      "outputs": [
        {
          "output_type": "stream",
          "name": "stdout",
          "text": [
            "Addition: 8\n",
            "Subtraction: 6\n"
          ]
        }
      ]
    },
    {
      "cell_type": "markdown",
      "source": [
        "8.  Implement a class Person with a class method to count the total number of persons created"
      ],
      "metadata": {
        "id": "IwcwhXqxEev-"
      }
    },
    {
      "cell_type": "code",
      "source": [
        "class Person:\n",
        "    count = 0  # Class variable to store the count\n",
        "\n",
        "    def __init__(self, name):\n",
        "        self.name = name\n",
        "        Person.count += 1  # Increment count when a new Person is created\n",
        "\n",
        "    @classmethod\n",
        "    def get_total_persons(cls):\n",
        "        return cls.count\n",
        "\n",
        "# Create some Person objects\n",
        "person1 = Person(\"Alice\")\n",
        "person2 = Person(\"Bob\")\n",
        "person3 = Person(\"Charlie\")\n",
        "\n",
        "# Get the total number of persons\n",
        "total_persons = Person.get_total_persons()\n",
        "print(f\"Total persons created: {total_persons}\")  # Output: Total persons created: 3"
      ],
      "metadata": {
        "colab": {
          "base_uri": "https://localhost:8080/"
        },
        "id": "54L_Kbr2ElYV",
        "outputId": "2daa7d49-9fef-4678-d2c0-9267550957eb"
      },
      "execution_count": 9,
      "outputs": [
        {
          "output_type": "stream",
          "name": "stdout",
          "text": [
            "Total persons created: 3\n"
          ]
        }
      ]
    },
    {
      "cell_type": "markdown",
      "source": [
        "9. Write a class Fraction with attributes numerator and denominator. Override the str method to display the\n",
        "fraction as \"numerator/denominator\"."
      ],
      "metadata": {
        "id": "d8CmJGA9Eqta"
      }
    },
    {
      "cell_type": "code",
      "source": [
        "class Fraction:\n",
        "    def __init__(self, numerator, denominator):\n",
        "        self.numerator = numerator\n",
        "        self.denominator = denominator\n",
        "\n",
        "    def __str__(self):\n",
        "        return f\"{self.numerator}/{self.denominator}\"\n",
        "\n",
        "# Create a Fraction object\n",
        "fraction = Fraction(3, 4)\n",
        "\n",
        "# Print the fraction (calls the __str__ method)\n",
        "print(fraction)  # Output: 3/4"
      ],
      "metadata": {
        "colab": {
          "base_uri": "https://localhost:8080/"
        },
        "id": "R1dvk6tEEy51",
        "outputId": "7422e636-b649-4d05-80ea-0a428171d023"
      },
      "execution_count": 10,
      "outputs": [
        {
          "output_type": "stream",
          "name": "stdout",
          "text": [
            "3/4\n"
          ]
        }
      ]
    },
    {
      "cell_type": "markdown",
      "source": [
        "10.  Demonstrate operator overloading by creating a class Vector and overriding the add method to add two\n",
        "vectors."
      ],
      "metadata": {
        "id": "ae9PH7NiE3d_"
      }
    },
    {
      "cell_type": "code",
      "source": [
        "class Vector:\n",
        "    def __init__(self, x, y):\n",
        "        self.x = x\n",
        "        self.y = y\n",
        "\n",
        "    def __add__(self, other):\n",
        "        return Vector(self.x + other.x, self.y + other.y)\n",
        "\n",
        "    def __str__(self):\n",
        "        return f\"({self.x}, {self.y})\"\n",
        "\n",
        "# Create two vectors\n",
        "v1 = Vector(2, 3)\n",
        "v2 = Vector(4, 5)\n",
        "\n",
        "# Add the vectors using the overloaded + operator\n",
        "v3 = v1 + v2\n",
        "\n",
        "# Print the result\n",
        "print(f\"v1 + v2 = {v3}\")  # Output: v1 + v2 = (6, 8)"
      ],
      "metadata": {
        "colab": {
          "base_uri": "https://localhost:8080/"
        },
        "id": "ABV8qrHIE_Zs",
        "outputId": "dba1540e-50f4-4a62-cc0d-dfa823f32ddd"
      },
      "execution_count": 11,
      "outputs": [
        {
          "output_type": "stream",
          "name": "stdout",
          "text": [
            "v1 + v2 = (6, 8)\n"
          ]
        }
      ]
    },
    {
      "cell_type": "markdown",
      "source": [
        "11. Create a class Person with attributes name and age. Add a method greet() that prints \"Hello, my name is\n",
        "{name} and I am {age} years old."
      ],
      "metadata": {
        "id": "A58vdY3UFEE9"
      }
    },
    {
      "cell_type": "code",
      "source": [
        "class Person:\n",
        "    def __init__(self, name, age):\n",
        "        self.name = name\n",
        "        self.age = age\n",
        "\n",
        "    def greet(self):\n",
        "        print(f\"Hello, my name is {self.name} and I am {self.age} years old.\")\n",
        "\n",
        "# Create a Person object\n",
        "person = Person(\"Alice\", 30)\n",
        "\n",
        "# Call the greet method\n",
        "person.greet()  # Output: Hello, my name is Alice and I am 30 years old."
      ],
      "metadata": {
        "colab": {
          "base_uri": "https://localhost:8080/"
        },
        "id": "Wxsg8-ROFMAF",
        "outputId": "3aef98db-0e92-48c4-fa2b-e3455188a79c"
      },
      "execution_count": 12,
      "outputs": [
        {
          "output_type": "stream",
          "name": "stdout",
          "text": [
            "Hello, my name is Alice and I am 30 years old.\n"
          ]
        }
      ]
    },
    {
      "cell_type": "markdown",
      "source": [
        "13.  Implement a class Student with attributes name and grades. Create a method average_grade() to compute\n",
        "the average of the grades."
      ],
      "metadata": {
        "id": "Ynxrx9GiFYN2"
      }
    },
    {
      "cell_type": "code",
      "source": [
        "class Student:\n",
        "    def __init__(self, name, grades):\n",
        "        self.name = name\n",
        "        self.grades = grades\n",
        "\n",
        "    def average_grade(self):\n",
        "        if self.grades:  # Check if grades list is not empty\n",
        "            return sum(self.grades) / len(self.grades)\n",
        "        else:\n",
        "            return 0  # Return 0 if there are no grades\n",
        "\n",
        "# Create a Student object\n",
        "student = Student(\"Alice\", [85, 90, 78, 92, 88])\n",
        "\n",
        "# Calculate and print the average grade\n",
        "average = student.average_grade()\n",
        "print(f\"{student.name}'s average grade: {average}\")  # Output: Alice's average grade: 86.6"
      ],
      "metadata": {
        "colab": {
          "base_uri": "https://localhost:8080/"
        },
        "id": "yzOKZCyFFfke",
        "outputId": "0adc5c0b-3584-40c9-bb2d-2df99d09575b"
      },
      "execution_count": 14,
      "outputs": [
        {
          "output_type": "stream",
          "name": "stdout",
          "text": [
            "Alice's average grade: 86.6\n"
          ]
        }
      ]
    },
    {
      "cell_type": "markdown",
      "source": [
        "13.  Create a class Rectangle with methods set_dimensions() to set the dimensions and area() to calculate the\n",
        "area."
      ],
      "metadata": {
        "id": "Z9ZyfY39Fjoq"
      }
    },
    {
      "cell_type": "code",
      "source": [
        "class Rectangle:\n",
        "    def __init__(self, length=0, width=0):  # Initialize with default values\n",
        "        self.length = length\n",
        "        self.width = width\n",
        "\n",
        "    def set_dimensions(self, length, width):\n",
        "        self.length = length\n",
        "        self.width = width\n",
        "\n",
        "    def area(self):\n",
        "        return self.length * self.width\n",
        "\n",
        "# Create a Rectangle object\n",
        "rectangle = Rectangle()\n",
        "\n",
        "# Set dimensions\n",
        "rectangle.set_dimensions(5, 4)\n",
        "\n",
        "# Calculate and print the area\n",
        "area = rectangle.area()\n",
        "print(f\"Area of rectangle: {area}\")  # Output: Area of rectangle: 20"
      ],
      "metadata": {
        "colab": {
          "base_uri": "https://localhost:8080/"
        },
        "id": "0x0rojQGFr4y",
        "outputId": "6cc9ce22-f8da-40d3-cdc1-257dd223403b"
      },
      "execution_count": 15,
      "outputs": [
        {
          "output_type": "stream",
          "name": "stdout",
          "text": [
            "Area of rectangle: 20\n"
          ]
        }
      ]
    },
    {
      "cell_type": "markdown",
      "source": [
        "14. Create a class Employee with a method calculate_salary() that computes the salary based on hours worked\n",
        "and hourly rate. Create a derived class Manager that adds a bonus to the salary"
      ],
      "metadata": {
        "id": "NrvmnTN2Fw4h"
      }
    },
    {
      "cell_type": "code",
      "source": [
        "class Employee:\n",
        "    def __init__(self, name, hours_worked, hourly_rate):\n",
        "        self.name = name\n",
        "        self.hours_worked = hours_worked\n",
        "        self.hourly_rate = hourly_rate\n",
        "\n",
        "    def calculate_salary(self):\n",
        "        return self.hours_worked * self.hourly_rate\n",
        "\n",
        "class Manager(Employee):\n",
        "    def __init__(self, name, hours_worked, hourly_rate, bonus):\n",
        "        super().__init__(name, hours_worked, hourly_rate)\n",
        "        self.bonus = bonus\n",
        "\n",
        "    def calculate_salary(self):\n",
        "        base_salary = super().calculate_salary()  # Call Employee's calculate_salary\n",
        "        return base_salary + self.bonus\n",
        "\n",
        "# Create Employee and Manager objects\n",
        "employee = Employee(\"Alice\", 40, 25)\n",
        "manager = Manager(\"Bob\", 45, 30, 1000)\n",
        "\n",
        "# Calculate and print salaries\n",
        "print(f\"{employee.name}'s salary: ${employee.calculate_salary()}\")  # Output: Alice's salary: $1000\n",
        "print(f\"{manager.name}'s salary: ${manager.calculate_salary()}\")  # Output: Bob's salary: $2350"
      ],
      "metadata": {
        "colab": {
          "base_uri": "https://localhost:8080/"
        },
        "id": "2Ub0NoFeF4u2",
        "outputId": "0ed99ffd-a8bb-4d65-814e-8306c8609495"
      },
      "execution_count": 16,
      "outputs": [
        {
          "output_type": "stream",
          "name": "stdout",
          "text": [
            "Alice's salary: $1000\n",
            "Bob's salary: $2350\n"
          ]
        }
      ]
    },
    {
      "cell_type": "markdown",
      "source": [
        "15. Create a class Product with attributes name, price, and quantity. Implement a method total_price() that\n",
        "calculates the total price of the product.\n",
        "\n",
        "\n"
      ],
      "metadata": {
        "id": "ULSrR3RpF-OQ"
      }
    },
    {
      "cell_type": "code",
      "source": [
        "class Product:\n",
        "    def __init__(self, name, price, quantity):\n",
        "        self.name = name\n",
        "        self.price = price\n",
        "        self.quantity = quantity\n",
        "\n",
        "    def total_price(self):\n",
        "        return self.price * self.quantity\n",
        "\n",
        "# Create a Product object\n",
        "product = Product(\"Laptop\", 1200, 2)\n",
        "\n",
        "# Calculate and print the total price\n",
        "total = product.total_price()\n",
        "print(f\"Total price of {product.name}: ${total}\")  # Output: Total price of Laptop: $2400"
      ],
      "metadata": {
        "colab": {
          "base_uri": "https://localhost:8080/"
        },
        "id": "UXLQ_S7lGHL0",
        "outputId": "8856e313-fdd5-4664-8d8e-5fa054d3ccef"
      },
      "execution_count": 17,
      "outputs": [
        {
          "output_type": "stream",
          "name": "stdout",
          "text": [
            "Total price of Laptop: $2400\n"
          ]
        }
      ]
    },
    {
      "cell_type": "markdown",
      "source": [
        "16. Create a class Animal with an abstract method sound(). Create two derived classes Cow and Sheep that\n",
        "implement the sound() method."
      ],
      "metadata": {
        "id": "IuhUMt1HGMSS"
      }
    },
    {
      "cell_type": "code",
      "source": [
        "from abc import ABC, abstractmethod\n",
        "\n",
        "class Animal(ABC):\n",
        "    @abstractmethod\n",
        "    def sound(self):\n",
        "        pass\n",
        "\n",
        "class Cow(Animal):\n",
        "    def sound(self):\n",
        "        print(\"Moo!\")\n",
        "\n",
        "class Sheep(Animal):\n",
        "    def sound(self):\n",
        "        print(\"Baa!\")\n",
        "\n",
        "# Create instances\n",
        "cow = Cow()\n",
        "sheep = Sheep()\n",
        "\n",
        "# Call the sound method\n",
        "cow.sound()  # Output: Moo!\n",
        "sheep.sound()  # Output: Baa!"
      ],
      "metadata": {
        "colab": {
          "base_uri": "https://localhost:8080/"
        },
        "id": "yRCnVuZlGUaL",
        "outputId": "423f6e70-b3d3-4f45-bb5c-51d15e15eda1"
      },
      "execution_count": 18,
      "outputs": [
        {
          "output_type": "stream",
          "name": "stdout",
          "text": [
            "Moo!\n",
            "Baa!\n"
          ]
        }
      ]
    },
    {
      "cell_type": "markdown",
      "source": [
        "17. Create a class Book with attributes title, author, and year_published. Add a method get_book_info() that\n",
        "returns a formatted string with the book's details.\n"
      ],
      "metadata": {
        "id": "EzHRQ6h2Gbkb"
      }
    },
    {
      "cell_type": "code",
      "source": [
        "class Book:\n",
        "    def __init__(self, title, author, year_published):\n",
        "        self.title = title\n",
        "        self.author = author\n",
        "        self.year_published = year_published\n",
        "\n",
        "    def get_book_info(self):\n",
        "        return f\"Title: {self.title}, Author: {self.author}, Year: {self.year_published}\"\n",
        "\n",
        "# Create a Book object\n",
        "book = Book(\"The Hitchhiker's Guide to the Galaxy\", \"Douglas Adams\", 1979)\n",
        "\n",
        "# Get book information\n",
        "book_info = book.get_book_info()\n",
        "print(book_info)  # Output: Title: The Hitchhiker's Guide to the Galaxy, Author: Douglas Adams, Year: 1979"
      ],
      "metadata": {
        "colab": {
          "base_uri": "https://localhost:8080/"
        },
        "id": "eboW6puxGkJf",
        "outputId": "79d58531-d973-43db-dfe9-0178af6039e2"
      },
      "execution_count": 19,
      "outputs": [
        {
          "output_type": "stream",
          "name": "stdout",
          "text": [
            "Title: The Hitchhiker's Guide to the Galaxy, Author: Douglas Adams, Year: 1979\n"
          ]
        }
      ]
    },
    {
      "cell_type": "markdown",
      "source": [
        "18. Create a class House with attributes address and price. Create a derived class Mansion that adds an\n",
        "attribute number_of_rooms."
      ],
      "metadata": {
        "id": "g6sGTeNKGpYT"
      }
    },
    {
      "cell_type": "code",
      "source": [
        "class House:\n",
        "    def __init__(self, address, price):\n",
        "        self.address = address\n",
        "        self.price = price\n",
        "\n",
        "class Mansion(House):\n",
        "    def __init__(self, address, price, number_of_rooms):\n",
        "        super().__init__(address, price)  # Initialize House attributes\n",
        "        self.number_of_rooms = number_of_rooms\n",
        "\n",
        "# Create instances\n",
        "house = House(\"123 Main St\", 500000)\n",
        "mansion = Mansion(\"456 Park Ave\", 2000000, 10)\n",
        "\n",
        "# Access attributes\n",
        "print(f\"House address: {house.address}, Price: ${house.price}\")\n",
        "print(f\"Mansion address: {mansion.address}, Price: ${mansion.price}, Rooms: {mansion.number_of_rooms}\")"
      ],
      "metadata": {
        "colab": {
          "base_uri": "https://localhost:8080/"
        },
        "id": "8eo5hqGvGzDE",
        "outputId": "18d0eab2-95d6-44bf-da6a-85975ac7b383"
      },
      "execution_count": 20,
      "outputs": [
        {
          "output_type": "stream",
          "name": "stdout",
          "text": [
            "House address: 123 Main St, Price: $500000\n",
            "Mansion address: 456 Park Ave, Price: $2000000, Rooms: 10\n"
          ]
        }
      ]
    },
    {
      "cell_type": "code",
      "source": [],
      "metadata": {
        "id": "0IWK6h8GGefY"
      },
      "execution_count": null,
      "outputs": []
    },
    {
      "cell_type": "code",
      "source": [],
      "metadata": {
        "id": "lG_mRKJOGBG9"
      },
      "execution_count": null,
      "outputs": []
    },
    {
      "cell_type": "markdown",
      "source": [],
      "metadata": {
        "id": "3gz3tLkXGLfc"
      }
    },
    {
      "cell_type": "markdown",
      "source": [],
      "metadata": {
        "id": "L5GWxhE1BuBj"
      }
    }
  ]
}